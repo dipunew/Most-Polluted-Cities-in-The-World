{
 "cells": [
  {
   "cell_type": "markdown",
   "id": "7da62311-6810-49c1-878b-35084d42aaea",
   "metadata": {},
   "source": [
    "> Part of a series on auto-updating websites using GitHub Actions and GitHub Pages\n",
    "\n",
    "# Air Quality Updater: Complete dataset copier\n",
    "\n",
    "In this section we are going to download the [AQI data of major cities from IQAir](https://www.iqair.com/us/world-air-quality-ranking) and save it as a CSV file.\n",
    "\n",
    "The URL is `https://www.iqair.com/us/world-air-quality-ranking`\n",
    "\n",
    "This approach is useful if you are looking to **directly copy a full dataset from the web** and use it to update a page or graphic. The alternate would be saving historical data over time, which I'll cover in another video."
   ]
  },
  {
   "cell_type": "code",
   "execution_count": 9,
   "id": "7ca9e47a-301d-4295-8027-0c48fd654de8",
   "metadata": {},
   "outputs": [],
   "source": [
    "# Normally we'd do this...\n",
    "import requests\n",
    "from bs4 import BeautifulSoup\n",
    "\n",
    "# ...but this time we'll just do this!\n",
    "import pandas as pd"
   ]
  },
  {
   "cell_type": "code",
   "execution_count": 10,
   "id": "89094df8-9704-4d2d-b73b-e213565f1595",
   "metadata": {},
   "outputs": [
    {
     "data": {
      "text/plain": [
       "1"
      ]
     },
     "execution_count": 10,
     "metadata": {},
     "output_type": "execute_result"
    }
   ],
   "source": [
    "tables = pd.read_html(\"https://www.iqair.com/in-en/world-air-quality-ranking\")\n",
    "len(tables)"
   ]
  },
  {
   "cell_type": "code",
   "execution_count": 11,
   "id": "27669dfd-85a9-4d4f-bac0-c8d51534404d",
   "metadata": {},
   "outputs": [
    {
     "data": {
      "text/html": [
       "<div>\n",
       "<style scoped>\n",
       "    .dataframe tbody tr th:only-of-type {\n",
       "        vertical-align: middle;\n",
       "    }\n",
       "\n",
       "    .dataframe tbody tr th {\n",
       "        vertical-align: top;\n",
       "    }\n",
       "\n",
       "    .dataframe thead th {\n",
       "        text-align: right;\n",
       "    }\n",
       "</style>\n",
       "<table border=\"1\" class=\"dataframe\">\n",
       "  <thead>\n",
       "    <tr style=\"text-align: right;\">\n",
       "      <th></th>\n",
       "      <th>Rank</th>\n",
       "      <th>Major city, country/region</th>\n",
       "      <th>Major city, country/region.1</th>\n",
       "      <th>AQI US</th>\n",
       "      <th>Followers</th>\n",
       "    </tr>\n",
       "  </thead>\n",
       "  <tbody>\n",
       "    <tr>\n",
       "      <th>0</th>\n",
       "      <td>1</td>\n",
       "      <td>NaN</td>\n",
       "      <td>Lahore, Pakistan</td>\n",
       "      <td>405</td>\n",
       "      <td>351.6K followers</td>\n",
       "    </tr>\n",
       "    <tr>\n",
       "      <th>1</th>\n",
       "      <td>2</td>\n",
       "      <td>NaN</td>\n",
       "      <td>Delhi, India</td>\n",
       "      <td>270</td>\n",
       "      <td>2.7M followers</td>\n",
       "    </tr>\n",
       "    <tr>\n",
       "      <th>2</th>\n",
       "      <td>3</td>\n",
       "      <td>NaN</td>\n",
       "      <td>Dhaka, Bangladesh</td>\n",
       "      <td>193</td>\n",
       "      <td>211.2K followers</td>\n",
       "    </tr>\n",
       "    <tr>\n",
       "      <th>3</th>\n",
       "      <td>4</td>\n",
       "      <td>NaN</td>\n",
       "      <td>Accra, Ghana</td>\n",
       "      <td>182</td>\n",
       "      <td>3.6K followers</td>\n",
       "    </tr>\n",
       "    <tr>\n",
       "      <th>4</th>\n",
       "      <td>5</td>\n",
       "      <td>NaN</td>\n",
       "      <td>Kolkata, India</td>\n",
       "      <td>176</td>\n",
       "      <td>1.4M followers</td>\n",
       "    </tr>\n",
       "  </tbody>\n",
       "</table>\n",
       "</div>"
      ],
      "text/plain": [
       "   Rank  Major city, country/region Major city, country/region.1  AQI US  \\\n",
       "0     1                         NaN             Lahore, Pakistan     405   \n",
       "1     2                         NaN                 Delhi, India     270   \n",
       "2     3                         NaN            Dhaka, Bangladesh     193   \n",
       "3     4                         NaN                 Accra, Ghana     182   \n",
       "4     5                         NaN               Kolkata, India     176   \n",
       "\n",
       "          Followers  \n",
       "0  351.6K followers  \n",
       "1    2.7M followers  \n",
       "2  211.2K followers  \n",
       "3    3.6K followers  \n",
       "4    1.4M followers  "
      ]
     },
     "execution_count": 11,
     "metadata": {},
     "output_type": "execute_result"
    }
   ],
   "source": [
    "df = tables[0]\n",
    "df.head()"
   ]
  },
  {
   "cell_type": "code",
   "execution_count": 12,
   "id": "24e50bc7-6d98-4fb0-b341-a309a74d34e9",
   "metadata": {},
   "outputs": [
    {
     "data": {
      "text/plain": [
       "Index(['Rank', 'Major city, country/region', 'Major city, country/region.1',\n",
       "       'AQI US', 'Followers'],\n",
       "      dtype='object')"
      ]
     },
     "execution_count": 12,
     "metadata": {},
     "output_type": "execute_result"
    }
   ],
   "source": [
    "df.columns"
   ]
  },
  {
   "cell_type": "code",
   "execution_count": 13,
   "id": "7ed7ccb6-aad0-4b4b-94a1-1dc7a5c910e6",
   "metadata": {},
   "outputs": [],
   "source": [
    "df = df.drop(columns=[\"Major city, country/region\"])"
   ]
  },
  {
   "cell_type": "code",
   "execution_count": 14,
   "id": "53f69d9f-1921-4158-9301-2da0afcdc1db",
   "metadata": {},
   "outputs": [
    {
     "data": {
      "text/html": [
       "<div>\n",
       "<style scoped>\n",
       "    .dataframe tbody tr th:only-of-type {\n",
       "        vertical-align: middle;\n",
       "    }\n",
       "\n",
       "    .dataframe tbody tr th {\n",
       "        vertical-align: top;\n",
       "    }\n",
       "\n",
       "    .dataframe thead th {\n",
       "        text-align: right;\n",
       "    }\n",
       "</style>\n",
       "<table border=\"1\" class=\"dataframe\">\n",
       "  <thead>\n",
       "    <tr style=\"text-align: right;\">\n",
       "      <th></th>\n",
       "      <th>Rank</th>\n",
       "      <th>Location</th>\n",
       "      <th>AQI Level</th>\n",
       "      <th>Followers</th>\n",
       "    </tr>\n",
       "  </thead>\n",
       "  <tbody>\n",
       "    <tr>\n",
       "      <th>0</th>\n",
       "      <td>1</td>\n",
       "      <td>Lahore, Pakistan</td>\n",
       "      <td>405</td>\n",
       "      <td>351.6K followers</td>\n",
       "    </tr>\n",
       "    <tr>\n",
       "      <th>1</th>\n",
       "      <td>2</td>\n",
       "      <td>Delhi, India</td>\n",
       "      <td>270</td>\n",
       "      <td>2.7M followers</td>\n",
       "    </tr>\n",
       "    <tr>\n",
       "      <th>2</th>\n",
       "      <td>3</td>\n",
       "      <td>Dhaka, Bangladesh</td>\n",
       "      <td>193</td>\n",
       "      <td>211.2K followers</td>\n",
       "    </tr>\n",
       "    <tr>\n",
       "      <th>3</th>\n",
       "      <td>4</td>\n",
       "      <td>Accra, Ghana</td>\n",
       "      <td>182</td>\n",
       "      <td>3.6K followers</td>\n",
       "    </tr>\n",
       "    <tr>\n",
       "      <th>4</th>\n",
       "      <td>5</td>\n",
       "      <td>Kolkata, India</td>\n",
       "      <td>176</td>\n",
       "      <td>1.4M followers</td>\n",
       "    </tr>\n",
       "  </tbody>\n",
       "</table>\n",
       "</div>"
      ],
      "text/plain": [
       "   Rank           Location  AQI Level         Followers\n",
       "0     1   Lahore, Pakistan        405  351.6K followers\n",
       "1     2       Delhi, India        270    2.7M followers\n",
       "2     3  Dhaka, Bangladesh        193  211.2K followers\n",
       "3     4       Accra, Ghana        182    3.6K followers\n",
       "4     5     Kolkata, India        176    1.4M followers"
      ]
     },
     "execution_count": 14,
     "metadata": {},
     "output_type": "execute_result"
    }
   ],
   "source": [
    "df = df.rename(\n",
    "    columns={\"Major city, country/region.1\": \"Location\", \"AQI US\": \"AQI Level\"}\n",
    ")\n",
    "df.head()"
   ]
  },
  {
   "cell_type": "code",
   "execution_count": 15,
   "id": "c778a795-c9e7-4dc2-93a1-1750f9c023b9",
   "metadata": {},
   "outputs": [],
   "source": [
    "df.to_csv(\"air-quality.csv\", index=False)"
   ]
  },
  {
   "cell_type": "code",
   "execution_count": null,
   "id": "005b64e3-c534-4a5b-86d3-5a9d1bcd393c",
   "metadata": {},
   "outputs": [],
   "source": []
  }
 ],
 "metadata": {
  "kernelspec": {
   "display_name": "Python 3 (ipykernel)",
   "language": "python",
   "name": "python3"
  },
  "language_info": {
   "codemirror_mode": {
    "name": "ipython",
    "version": 3
   },
   "file_extension": ".py",
   "mimetype": "text/x-python",
   "name": "python",
   "nbconvert_exporter": "python",
   "pygments_lexer": "ipython3",
   "version": "3.11.5"
  }
 },
 "nbformat": 4,
 "nbformat_minor": 5
}
